1, Báo Cáo Điều Tra và Mô Phỏng Các Phương Pháp Mã Hóa Tín Hiệu
2, Mục tiêu
Mục tiêu của báo cáo này là khảo sát và mô phỏng các phương pháp mã hóa tín hiệu khác nhau bao gồm:
- Mã hóa trực tiếp dạng sóng trong miền thời gian (PCM, DPCM, DM).
- Mã hóa trực tiếp dạng sóng trong miền tần số (Mã hóa băng con, mã hóa thích nghi ATC).
- Mã hóa tham số (LPC).
- Phương pháp mã hóa lai ghép.
3, Công cụ
Matlab được sử dụng làm công cụ chính để thực hiện các phương pháp mã hóa này.


# Mã hóa PCM
fs = 44100; % Tần số lấy mẫu
t = 0:1/fs:1-1/fs;
signal = sin(2*pi*440*t); % Tín hiệu mẫu

# Lượng tử hóa
nBits = 16; % Số bit cho mỗi mẫu
quantizedSignal = round((2^(nBits-1)-1)*signal);

# Hiển thị một đoạn của tín hiệu được lượng tử
plot(t(1:100), quantizedSignal(1:100));
title('PCM Quantized Signal');
xlabel('Time (s)');
ylabel('Amplitude');


->Tổng Kết
Trong báo cáo này, chúng ta đã khảo sát và mô phỏng một loạt các phương pháp mã hóa tín hiệu. Mỗi phương pháp có những ưu và nhược điểm riêng, phù hợp với các ứng dụng cụ thể trong xử lý tín hiệu và truyền thông.
<+> Tham Khảo
- Tài liệu và hướng dẫn từ MathWorks.
- Giáo trình Xử lý tín hiệu số.
